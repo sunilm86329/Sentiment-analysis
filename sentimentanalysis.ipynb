{
  "nbformat": 4,
  "nbformat_minor": 0,
  "metadata": {
    "colab": {
      "name": "sentimentanalysis.ipynb",
      "provenance": []
    },
    "kernelspec": {
      "name": "python3",
      "display_name": "Python 3"
    },
    "language_info": {
      "name": "python"
    }
  },
  "cells": [
    {
      "cell_type": "code",
      "source": [
        "pip install vaderSentiment"
      ],
      "metadata": {
        "colab": {
          "base_uri": "https://localhost:8080/"
        },
        "id": "EnZ8HPMJ60a4",
        "outputId": "1e401331-6639-4ee9-a937-27199b68fc63"
      },
      "execution_count": 4,
      "outputs": [
        {
          "output_type": "stream",
          "name": "stdout",
          "text": [
            "Looking in indexes: https://pypi.org/simple, https://us-python.pkg.dev/colab-wheels/public/simple/\n",
            "Collecting vaderSentiment\n",
            "  Downloading vaderSentiment-3.3.2-py2.py3-none-any.whl (125 kB)\n",
            "\u001b[K     |████████████████████████████████| 125 kB 38.5 MB/s \n",
            "\u001b[?25hRequirement already satisfied: requests in /usr/local/lib/python3.7/dist-packages (from vaderSentiment) (2.23.0)\n",
            "Requirement already satisfied: certifi>=2017.4.17 in /usr/local/lib/python3.7/dist-packages (from requests->vaderSentiment) (2022.6.15)\n",
            "Requirement already satisfied: urllib3!=1.25.0,!=1.25.1,<1.26,>=1.21.1 in /usr/local/lib/python3.7/dist-packages (from requests->vaderSentiment) (1.24.3)\n",
            "Requirement already satisfied: idna<3,>=2.5 in /usr/local/lib/python3.7/dist-packages (from requests->vaderSentiment) (2.10)\n",
            "Requirement already satisfied: chardet<4,>=3.0.2 in /usr/local/lib/python3.7/dist-packages (from requests->vaderSentiment) (3.0.4)\n",
            "Installing collected packages: vaderSentiment\n",
            "Successfully installed vaderSentiment-3.3.2\n"
          ]
        }
      ]
    },
    {
      "cell_type": "code",
      "source": [
        "from vaderSentiment.vaderSentiment import SentimentIntensityAnalyzer \n",
        "  \n",
        "# function to print sentiments \n",
        "# of the sentence. \n",
        "import pandas as pd\n",
        "fh=open(\"/content/SA.txt.txt\",\"r\",encoding=\"utf8\")\n",
        "text=fh.read()\n",
        "sid_obj = SentimentIntensityAnalyzer() \n",
        "  \t\n",
        "# polarity_scores method of SentimentIntensityAnalyzer \n",
        "# object gives a sentiment dictionary. \n",
        "# which contains pos, neg, neu, and compound scores. \n",
        "sentiment_dict = sid_obj.polarity_scores(text) \n",
        "print(\"Overall sentiment dictionary is : \", sentiment_dict) \n",
        "print(\"Chat history was rated as \", sentiment_dict['neg']*100, \"% Negative\") \n",
        "print(\"Chat history was rated as \", sentiment_dict['neu']*100, \"% Neutral\") \n",
        "print(\"Chat history was rated as \", sentiment_dict['pos']*100, \"% Positive\")\n",
        "print(sentiment_dict)\n",
        "df=pd.DataFrame(sentiment_dict,columns =['neg', 'neu', 'pos'],index=[1]) \n",
        "print(df)\n",
        "df.plot.bar()\n",
        "  \n",
        "print(\"Chat history Overall Rated As\", end = \" \") \n",
        "  \n",
        "    # decide sentiment as positive, negative and neutral \n",
        "if sentiment_dict['compound'] >= 0.05 : \n",
        "    print(\"Positive\") \n",
        "elif sentiment_dict['compound'] <= - 0.05 : \n",
        "    print(\"Negative\") \n",
        "else :\n",
        "    print(\"Neutral\") \n",
        "  "
      ],
      "metadata": {
        "colab": {
          "base_uri": "https://localhost:8080/",
          "height": 401
        },
        "id": "7jo1Mryv7hbA",
        "outputId": "cf2a29f4-1abb-42d8-9992-a05103870f56"
      },
      "execution_count": 9,
      "outputs": [
        {
          "output_type": "stream",
          "name": "stdout",
          "text": [
            "Overall sentiment dictionary is :  {'neg': 0.0, 'neu': 0.605, 'pos': 0.395, 'compound': 0.9869}\n",
            "Chat history was rated as  0.0 % Negative\n",
            "Chat history was rated as  60.5 % Neutral\n",
            "Chat history was rated as  39.5 % Positive\n",
            "{'neg': 0.0, 'neu': 0.605, 'pos': 0.395, 'compound': 0.9869}\n",
            "   neg    neu    pos\n",
            "1  0.0  0.605  0.395\n",
            "Chat history Overall Rated As Positive\n"
          ]
        },
        {
          "output_type": "display_data",
          "data": {
            "text/plain": [
              "<Figure size 432x288 with 1 Axes>"
            ],
            "image/png": "[encoded data removed]"
          },
          "metadata": {
            "needs_background": "light"
          }
        }
      ]
    }
  ]
}